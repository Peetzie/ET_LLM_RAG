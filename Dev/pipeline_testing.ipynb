{
 "cells": [
  {
   "cell_type": "code",
   "execution_count": 4,
   "metadata": {},
   "outputs": [
    {
     "name": "stdout",
     "output_type": "stream",
     "text": [
      "Device: cuda\n"
     ]
    }
   ],
   "source": [
    "from dotenv import load_dotenv\n",
    "import torch\n",
    "import os\n",
    "from pathlib import Path\n",
    "import re\n",
    "from tqdm import tqdm\n",
    "\n",
    "import requests\n",
    "import wikipediaapi\n",
    "\n",
    "from transformers import AutoTokenizer, AutoModelForTokenClassification, AutoModelForCausalLM\n",
    "from transformers import pipeline\n",
    "\n",
    "\n",
    "from langchain.document_loaders import WebBaseLoader\n",
    "from langchain.text_splitter import RecursiveCharacterTextSplitter\n",
    "from langchain.embeddings import HuggingFaceInferenceAPIEmbeddings\n",
    "from langchain.vectorstores import Chroma\n",
    "from langchain.llms import HuggingFaceHub\n",
    "from langchain.chains import RetrievalQA\n",
    "from pathlib import Path\n",
    "\n",
    "# Load variables\n",
    "load_dotenv()\n",
    "# change dir root (one above)\n",
    "access_key = os.getenv(\"HUGGING_FACE\")\n",
    "root_dir = os.getcwd()\n",
    "model_dir = Path(root_dir, \"models\")\n",
    "articles_dir = Path(root_dir, \"Articles\")\n",
    "\n",
    "\n",
    "# Set device\n",
    "device = torch.device(\"cuda\" if torch.cuda.is_available() else \"cpu\")\n",
    "print(f\"Device: {device}\")"
   ]
  },
  {
   "cell_type": "code",
   "execution_count": 51,
   "metadata": {},
   "outputs": [
    {
     "name": "stderr",
     "output_type": "stream",
     "text": [
      "Some weights of the model checkpoint at dslim/bert-base-NER were not used when initializing BertForTokenClassification: ['bert.pooler.dense.bias', 'bert.pooler.dense.weight']\n",
      "- This IS expected if you are initializing BertForTokenClassification from the checkpoint of a model trained on another task or with another architecture (e.g. initializing a BertForSequenceClassification model from a BertForPreTraining model).\n",
      "- This IS NOT expected if you are initializing BertForTokenClassification from the checkpoint of a model that you expect to be exactly identical (initializing a BertForSequenceClassification model from a BertForSequenceClassification model).\n"
     ]
    },
    {
     "name": "stdout",
     "output_type": "stream",
     "text": [
      "[{'entity': 'B-ORG', 'score': 0.9993925, 'index': 7, 'word': 'Technical', 'start': 30, 'end': 39}, {'entity': 'I-ORG', 'score': 0.99917346, 'index': 8, 'word': 'University', 'start': 40, 'end': 50}, {'entity': 'I-ORG', 'score': 0.9991667, 'index': 9, 'word': 'of', 'start': 51, 'end': 53}, {'entity': 'I-ORG', 'score': 0.9991375, 'index': 10, 'word': 'Denmark', 'start': 54, 'end': 61}]\n"
     ]
    }
   ],
   "source": [
    "tokenizer = AutoTokenizer.from_pretrained(\"dslim/bert-base-NER\", cache_dir = model_dir)\n",
    "model = AutoModelForTokenClassification.from_pretrained(\"dslim/bert-base-NER\", cache_dir = model_dir).to(\"cuda\")\n",
    "\n",
    "nlp = pipeline(\"ner\", model=model, tokenizer=tokenizer)\n",
    "example = \"How many board members at the Technical University of Denmark?\"\n",
    "\n",
    "ner_results = nlp(example)\n",
    "print(ner_results)"
   ]
  },
  {
   "cell_type": "code",
   "execution_count": 52,
   "metadata": {},
   "outputs": [],
   "source": [
    "def extract_entities(entities):\n",
    "    \"\"\"\n",
    "    Extracts persons and locations from a list of entities recognized by an entity recognition system.\n",
    "\n",
    "    Parameters:\n",
    "    - entities (list of dicts): The output from an entity recognition system, where each dictionary\n",
    "      contains details about the recognized entity, including its type (person or location).\n",
    "\n",
    "    Returns:\n",
    "    - tuple of two lists: (persons, locations) where each is a list of extracted entity names.\n",
    "    \"\"\"\n",
    "    # Initialize lists to hold persons and locations\n",
    "    persons = []\n",
    "    locations = []\n",
    "\n",
    "    # Temporary variables to construct full names and locations\n",
    "    current_person = \"\"\n",
    "    current_location = \"\"\n",
    "\n",
    "    # Iterate over each entity to extract and construct full names and locations\n",
    "    for entity in entities:\n",
    "        if entity['entity'].startswith('B-PER'):\n",
    "            # If there's a current person, append it to persons before starting a new one\n",
    "            if current_person:\n",
    "                persons.append(current_person.strip())\n",
    "                current_person = \"\"\n",
    "            current_person += entity['word'].lstrip('##')\n",
    "        elif entity['entity'].startswith('I-PER') and current_person:\n",
    "            # Handle token splitting for names correctly\n",
    "            if entity['word'].startswith('##'):\n",
    "                current_person += entity['word'].replace(\"##\", \"\")\n",
    "            else:\n",
    "                current_person += \" \" + entity['word']\n",
    "        elif entity['entity'].startswith('B-ORG'):\n",
    "            # Similarly, for locations\n",
    "            if current_location:\n",
    "                locations.append(current_location.strip())\n",
    "                current_location = \"\"\n",
    "            current_location += entity['word'].lstrip('##')\n",
    "        elif entity['entity'].startswith('I-ORG') and current_location:\n",
    "            if entity['word'].startswith('##'):\n",
    "                current_location += entity['word'].replace(\"##\", \"\")\n",
    "            else:\n",
    "                current_location += \" \" + entity['word']\n",
    "\n",
    "    # Append any remaining entities to their respective lists\n",
    "    if current_person:\n",
    "        persons.append(current_person.strip())\n",
    "    if current_location:\n",
    "        locations.append(current_location.strip())\n",
    "    words_to_remove = ['like', 'the', 'and', 'or', 'but', 'so', 'for', 'in', 'at', 'on']\n",
    "    cleaned_locations = []\n",
    "    for location in locations:\n",
    "        cleaned_location = ' '.join([word for word in location.split() if word.lower() not in words_to_remove])\n",
    "        cleaned_locations.append(cleaned_location)\n",
    "    return persons, cleaned_locations"
   ]
  },
  {
   "cell_type": "code",
   "execution_count": 53,
   "metadata": {},
   "outputs": [
    {
     "name": "stdout",
     "output_type": "stream",
     "text": [
      "Persons: []\n",
      "Locations: ['Technical University of Denmark']\n"
     ]
    }
   ],
   "source": [
    "persons, locations = extract_entities(ner_results)\n",
    "\n",
    "print(f\"Persons: {persons}\")\n",
    "print(f\"Locations: {locations}\")"
   ]
  },
  {
   "cell_type": "code",
   "execution_count": 54,
   "metadata": {},
   "outputs": [],
   "source": [
    "from langchain_community.tools.wikidata.tool import WikidataAPIWrapper, WikidataQueryRun\n",
    "\n",
    "wikidata = WikidataQueryRun(api_wrapper=WikidataAPIWrapper())"
   ]
  },
  {
   "cell_type": "code",
   "execution_count": 55,
   "metadata": {},
   "outputs": [
    {
     "name": "stderr",
     "output_type": "stream",
     "text": [
      "Querying Wikidata: 100%|██████████| 1/1 [00:09<00:00,  9.50s/it]\n"
     ]
    }
   ],
   "source": [
    "results = []\n",
    "# Iterate through each person and location\n",
    "for item in tqdm(persons + locations, desc=f\"Querying Wikidata\"):\n",
    "    # Run the command and append the output to the results list\n",
    "    result = wikidata.run(item)\n",
    "    results.append(result)"
   ]
  },
  {
   "cell_type": "code",
   "execution_count": 56,
   "metadata": {},
   "outputs": [
    {
     "data": {
      "text/plain": [
       "['Result Q1269766:\\nLabel: Technical University of Denmark\\nDescription: university in the town Kongens Lyngby\\nAliases: Danmarks Tekniske Universitet, DTU, Danish Technical University\\ninstance of: institute of technology, public university\\nhas part(s): DTU Compute, Department of Systems Biology, Institut for Byggeri og Anlæg, Transport DTU, DTU Aqua, National Food Institute, Department of Chemistry, DTU Electrical Engineering, DTU Space, Risø DTU National Laboratory for Sustainable Energy, DTU Library\\ncountry: Denmark\\ninception: 1829-01-27\\ncoordinate location: 55.78615496226836, 12.523358653673844\\nfounded by: Hans Christian Ørsted\\nheadquarters location: Kongens Lyngby, Lyngby-Taarbæk Municipality\\naffiliation: European University Association, Top International Managers in Engineering, CDIO, Conference of European Schools for Advanced Engineering Education and Research, Eurotech\\n\\nResult Q23048689:\\nLabel: DTU Compute\\nDescription: department within the Technical University of Denmark\\nAliases: Department of Applied Mathematics and Computer Science, Department of Applied Mathematics and Computer Science, Technical University of Denmark, Technical University of Denmark, Department of Applied Mathematics and Computer Science, Technical University of Denmark, Department of Applied Mathematics and Computer Science, Richard Petersens Plads, Building 324, 2800 Kongens Lyngby, Denmark\\ninstance of: academic department\\npart of: Technical University of Denmark\\nhas part(s): Cognitive Systems, Scientific Computing, Section for Embedded Systems Engineering, Statistics and Data Analysis section, Section for Visual Computing, Section for Cyber Security, Section for Dynamical Systems, Section for Mathematics, Software Engineering section\\ncountry: Denmark\\nlocated in the administrative territorial entity: Lyngby-Taarbæk Municipality\\ninception: 2013-01-01\\ncoordinate location: 55.78385, 12.51856\\nfield of work: statistics, machine learning, software engineering, mathematics']"
      ]
     },
     "execution_count": 56,
     "metadata": {},
     "output_type": "execute_result"
    }
   ],
   "source": [
    "results"
   ]
  },
  {
   "cell_type": "code",
   "execution_count": 57,
   "metadata": {},
   "outputs": [
    {
     "data": {
      "text/plain": [
       "['Q1269766', 'Q23048689']"
      ]
     },
     "execution_count": 57,
     "metadata": {},
     "output_type": "execute_result"
    }
   ],
   "source": [
    "qids = []\n",
    "\n",
    "# Iterate through each result\n",
    "for result in results:\n",
    "    # Extract the QIDs from the result\n",
    "    qids += re.findall(r'Q\\d+', result)\n",
    "qids"
   ]
  },
  {
   "cell_type": "code",
   "execution_count": 58,
   "metadata": {},
   "outputs": [],
   "source": [
    "# Function to get Wikipedia page title from Wikidata QID\n",
    "def get_wikipedia_title(qid, user_agent):\n",
    "    headers = {\"User-Agent\": user_agent}\n",
    "    url = f\"https://www.wikidata.org/w/api.php?action=wbgetentities&ids={qid}&props=sitelinks&format=json\"\n",
    "    response = requests.get(url, headers=headers)\n",
    "    data = response.json()\n",
    "    if \"sitelinks\" in data.get(\"entities\", {}).get(qid, {}):\n",
    "        sitelinks = data[\"entities\"][qid][\"sitelinks\"]\n",
    "        if \"enwiki\" in sitelinks:\n",
    "            return sitelinks[\"enwiki\"][\"title\"]\n",
    "    return None\n",
    "\n",
    "\n",
    "# Function to fetch Wikipedia article content based on page title\n",
    "def fetch_wikipedia_article(title, num_words, user_agent):\n",
    "    headers = {\"User-Agent\": user_agent}\n",
    "    wiki_wiki = wikipediaapi.Wikipedia(\"en\", headers=headers)\n",
    "    page = wiki_wiki.page(title)\n",
    "    if page.exists():\n",
    "        article_content = page.text\n",
    "        # Extract specified number of words\n",
    "        words = article_content.split()[:num_words]\n",
    "        return \" \".join(words)\n",
    "    return None\n",
    "\n",
    "\n",
    "# Function to download Wikipedia articles\n",
    "def download_wikipedia_article(qid, user_agent, num_words_to_save):\n",
    "    title = get_wikipedia_title(qid, user_agent)\n",
    "    if title:\n",
    "        content = fetch_wikipedia_article(title, num_words_to_save, user_agent)\n",
    "        if content:\n",
    "            # Save article content to disk\n",
    "            root_dir = Path(\".\")\n",
    "            directory = root_dir / \"Articles\"\n",
    "            os.makedirs(directory, exist_ok=True)\n",
    "            filename = directory / f\"{title}.txt\"\n",
    "            with open(filename, \"w\", encoding=\"utf-8\") as file:\n",
    "                file.write(content)\n",
    "        else:\n",
    "            print(\"Failed to fetch article content.\")\n",
    "    else:\n",
    "        print(f\"No Wikipedia article found for QID: {qid}\")\n",
    "\n",
    "def download_wikipedia_article_with_progress(user_agent, num_words_to_save):\n",
    "    qids_list = qids\n",
    "    num_articles = len(qids_list)\n",
    "\n",
    "    # Initialize a single progress bar for the overall process\n",
    "    with tqdm(\n",
    "        total=num_articles, desc=\"Downloading Wikipedia Articles\", unit=\" articles\"\n",
    "    ) as pbar_total:\n",
    "        for qid in qids_list:\n",
    "            title = get_wikipedia_title(qid, user_agent)\n",
    "            if title:\n",
    "                content = fetch_wikipedia_article(title, num_words_to_save, user_agent)\n",
    "                if content:\n",
    "                    # Save article content to disk\n",
    "                    filename = Path(root_dir, f\"Articles/{title}.txt\")\n",
    "                    with open(filename, \"w\", encoding=\"utf-8\") as file:\n",
    "                        file.write(content)\n",
    "                    pbar_total.update(\n",
    "                        1\n",
    "                    )  # Update the progress bar for each downloaded article\n",
    "                else:\n",
    "                    print(f\"Failed to fetch content for article with QID: {qid}\")\n",
    "            else:\n",
    "                print(f\"No Wikipedia article found for QID: {qid}\")\n",
    "\n"
   ]
  },
  {
   "cell_type": "code",
   "execution_count": null,
   "metadata": {},
   "outputs": [],
   "source": [
    "length = 5000"
   ]
  },
  {
   "cell_type": "code",
   "execution_count": 59,
   "metadata": {},
   "outputs": [
    {
     "name": "stderr",
     "output_type": "stream",
     "text": [
      "Downloading Wikipedia Articles:  50%|█████     | 1/2 [00:01<00:01,  1.21s/ articles]"
     ]
    },
    {
     "name": "stdout",
     "output_type": "stream",
     "text": [
      "No Wikipedia article found for QID: Q23048689\n"
     ]
    },
    {
     "name": "stderr",
     "output_type": "stream",
     "text": [
      "\n"
     ]
    }
   ],
   "source": [
    "download_wikipedia_article_with_progress(\"flarsen\", 500)"
   ]
  },
  {
   "cell_type": "code",
   "execution_count": 60,
   "metadata": {},
   "outputs": [],
   "source": [
    "# Load text document from file system\n",
    "def load_text_document(file_path):\n",
    "    with open(file_path, \"r\", encoding=\"utf-8\") as file:\n",
    "        content = file.read()\n",
    "    return content\n"
   ]
  },
  {
   "cell_type": "code",
   "execution_count": 64,
   "metadata": {},
   "outputs": [],
   "source": [
    "# Define folder path\n",
    "folder_path = \"/work3/s174159/ET_LLM_RAG/Articles/\"\n",
    "\n",
    "# Encode articles in the folder\n",
    "articles = []\n",
    "for file_name in os.listdir(folder_path):\n",
    "    if file_name.endswith(\".txt\"):\n",
    "        file_path = os.path.join(folder_path, file_name)\n",
    "        content = load_text_document(file_path)\n",
    "        articles.append(content)\n",
    "\n",
    "# Split text into chunks for each article\n",
    "text_splitter = RecursiveCharacterTextSplitter(chunk_size=5000, chunk_overlap=1)\n",
    "chunking = [text_splitter.split_text(article) for article in articles]\n",
    "\n",
    "\n",
    "# Define a class to represent documents\n",
    "class Document:\n",
    "    def __init__(self, page_content, metadata=None):\n",
    "        self.page_content = page_content\n",
    "        self.metadata = metadata\n",
    "\n",
    "\n",
    "# Convert dictionaries into objects with 'page_content' attribute\n",
    "documents = [Document(chunk, metadata=None) for chunks in chunking for chunk in chunks]\n",
    "\n",
    "# Embed chunks using the specified embedding model\n",
    "embeddings = HuggingFaceInferenceAPIEmbeddings(\n",
    "    api_key=access_key, model_name=\"BAAI/bge-base-en-v1.5\"\n",
    ")\n",
    "vectorstore = Chroma.from_documents(documents, embeddings)\n",
    "\n",
    "# Define retriever\n",
    "retriever = vectorstore.as_retriever(search_type=\"mmr\", search_kwargs={\"k\": 2})"
   ]
  },
  {
   "cell_type": "code",
   "execution_count": 65,
   "metadata": {},
   "outputs": [
    {
     "name": "stderr",
     "output_type": "stream",
     "text": [
      "Number of requested results 20 is greater than number of elements in index 6, updating n_results = 6\n",
      "Number of requested results 20 is greater than number of elements in index 6, updating n_results = 6\n"
     ]
    },
    {
     "name": "stdout",
     "output_type": "stream",
     "text": [
      "Use the following pieces of context to answer the question at the end. If you don't know the answer, just say that you don't know, don't try to make up an answer.\n",
      "\n",
      "The Technical University of Denmark (Danish: Danmarks Tekniske Universitet), often simply referred to as DTU, is a polytechnic university and school of engineering. It was founded in 1829 at the initiative of Hans Christian Ørsted as Denmark's first polytechnic, and it is today ranked among Europe's leading engineering institutions. It is located in the town Kongens Lyngby, 12 kilometres (7.5 mi) north of central Copenhagen, Denmark. Along with École Polytechnique in Paris, École Polytechnique Fédérale de Lausanne, Eindhoven University of Technology, Technical University of Munich and Technion – Israel Institute of Technology, DTU is a member of EuroTech Universities Alliance. History DTU was founded in 1829 as the \"College of Advanced Technology\" (Danish: Den Polytekniske Læreanstalt). The Physicist Hans Christian Ørsted, at that time a professor at the University of Copenhagen, was one of the driving forces behind this initiative. He was inspired by the École Polytechnique in Paris, France which Ørsted had visited as a young scientist. The new institution was inaugurated on 5 November 1829 with Ørsted becoming its Principal, a position he held until his death in 1851. The first home of the new college consisted of two buildings located in Studiestræde and St. Pederstræde in the center of Copenhagen. Although these buildings were expanded several times, they eventually became inadequate for the requirements of the college. In 1890 a new building complex was completed and inaugurated located in Sølvgade. The new buildings were designed by the architect Johan Daniel Herholdt.In 1903, the College of Advanced Technology commenced the education of electrical engineers in addition to that of the construction engineers, the production engineers, and the mechanical engineers who already at that time were being educated at the college. In the 1920s, space again became insufficient and in 1929 the foundation stone was laid for a new school at Østervold. Completion of this building was delayed by World War II and it was not completed before 1954. From 1933, the institution was officially known as Danmarks tekniske Højskole (DtH), which commonly was translated into English, as the 'Technical University of Denmark'. On 1 April 1994, in connection with the joining of Danmarks Ingeniørakademi (DIA) and DTH, the Danish name was changed to Danmarks Tekniske Universitet, this done to include the word 'University' thus giving rise to the initials DTU by which the university is commonly known today. The formal name, Den Polytekniske Læreanstalt, Danmarks Tekniske Universitet, however, still includes the original name.In 1960 a decision was made to move the College of Advanced Technology to new and larger facilities in Lyngby north of Copenhagen. They were inaugurated on 17 May 1974.On 23 and 24 November 1967, the University Computing Center hosted the NATO Science Committee's Study Group first meeting discussing the newly coined term \"Software Engineering\".On 1 January 2007, the university was merged with the following Danish research centers: Forskningscenter Risø, Danmarks Fødevareforskning, Danmarks Fiskeriundersøgelser (from 1 January 2008: National Institute for Aquatic Resources; DTU Aqua), Danmarks Rumcenter, and Danmarks Transport-Forskning. Organization and administration The university is\n",
      "\n",
      "Adolf Hitler (20 April 1889 – 30 April 1945) was an Austrian-born German politician who was the dictator of Nazi Germany from 1933 until his suicide in 1945. He rose to power as the leader of the Nazi Party, becoming the chancellor in 1933 and then taking the title of Führer und Reichskanzler in 1934. During his dictatorship, he initiated the European theatre of World War II by invading Poland on 1 September 1939. He was closely involved in military operations throughout the war and was central to the perpetration of the genocide of about six million Jews and millions of other victims. Hitler was born in Braunau am Inn in Austria-Hungary and was raised near Linz. He lived in Vienna later in the first decade of the 1900s before moving to Germany in 1913. He was decorated during his service in the German Army in World War I. In 1919, he joined the German Workers' Party (DAP), the precursor of the Nazi Party, and in 1921 was appointed leader of the Nazi Party. In 1923, he attempted to seize governmental power in a failed coup in Munich and was sentenced to five years in prison, serving just over a year of his sentence. While there, he dictated the first volume of his autobiography and political manifesto Mein Kampf (\"My Struggle\"). After his early release in 1924, Hitler gained popular support by attacking the Treaty of Versailles and promoting pan-Germanism, antisemitism and anti-communism with charismatic oratory and Nazi propaganda. He frequently denounced communism as being part of an international Jewish conspiracy. By November 1932, the Nazi Party held the most seats in the Reichstag but did not have a majority. No political parties were able to form a majority coalition in support of a candidate for chancellor. Former chancellor Franz von Papen and other conservative leaders convinced President Paul von Hindenburg to appoint Hitler as chancellor on 30 January 1933. Shortly thereafter, the Reichstag passed the Enabling Act of 1933 which began the process of transforming the Weimar Republic into Nazi Germany, a one-party dictatorship based on the totalitarian and autocratic ideology of Nazism. Upon Hindenburg's death on 2 August 1934, Hitler succeeded him, becoming simultaneously the head of state and government with absolute power. Domestically, Hitler implemented numerous racist policies and sought to deport or kill German Jews. His first six years in power resulted in rapid economic recovery from the Great Depression, the abrogation of restrictions imposed on Germany after World War I, and the annexation of territories inhabited by millions of ethnic Germans, which initially gave him significant popular support. One of Hitler's key goals was Lebensraum (lit. 'living space') for the German people in Eastern Europe, and his aggressive, expansionist foreign policy is considered the primary cause of World War II in Europe. He directed large-scale rearmament and, on 1 September 1939, invaded Poland, resulting in Britain and France declaring war on Germany. In June 1941, Hitler ordered an invasion of the Soviet Union. In December\n",
      "\n",
      "Question: ['Result Q1269766:\\nLabel: Technical University of Denmark\\nDescription: university in the town Kongens Lyngby\\nAliases: Danmarks Tekniske Universitet, DTU, Danish Technical University\\ninstance of: institute of technology, public university\\nhas part(s): DTU Compute, Department of Systems Biology, Institut for Byggeri og Anlæg, Transport DTU, DTU Aqua, National Food Institute, Department of Chemistry, DTU Electrical Engineering, DTU Space, Risø DTU National Laboratory for Sustainable Energy, DTU Library\\ncountry: Denmark\\ninception: 1829-01-27\\ncoordinate location: 55.78615496226836, 12.523358653673844\\nfounded by: Hans Christian Ørsted\\nheadquarters location: Kongens Lyngby, Lyngby-Taarbæk Municipality\\naffiliation: European University Association, Top International Managers in Engineering, CDIO, Conference of European Schools for Advanced Engineering Education and Research, Eurotech\\n\\nResult Q23048689:\\nLabel: DTU Compute\\nDescription: department within the Technical University of Denmark\\nAliases: Department of Applied Mathematics and Computer Science, Department of Applied Mathematics and Computer Science, Technical University of Denmark, Technical University of Denmark, Department of Applied Mathematics and Computer Science, Technical University of Denmark, Department of Applied Mathematics and Computer Science, Richard Petersens Plads, Building 324, 2800 Kongens Lyngby, Denmark\\ninstance of: academic department\\npart of: Technical University of Denmark\\nhas part(s): Cognitive Systems, Scientific Computing, Section for Embedded Systems Engineering, Statistics and Data Analysis section, Section for Visual Computing, Section for Cyber Security, Section for Dynamical Systems, Section for Mathematics, Software Engineering section\\ncountry: Denmark\\nlocated in the administrative territorial entity: Lyngby-Taarbæk Municipality\\ninception: 2013-01-01\\ncoordinate location: 55.78385, 12.51856\\nfield of work: statistics, machine learning, software engineering, mathematics']\n",
      "\n",
      "You are an AI Assistant that follows instructions extremely well.\n",
      "Please be truthful and give direct answers\n",
      "</s>\n",
      "\n",
      "How many board members at the Technical University of Denmark?\n",
      "</s>\n",
      "\n",
      "Helpful Answer: There is no information provided that indicates the Technical University of Denmark (DTU) has board members. The given text mentions that DTU was merged with several research centers in 2007, but it does not explicitly state that DTU has board members. The status of board members at DTU may have changed since the merger. However, based on the available information, there is no clear indication that DTU has board members.\n"
     ]
    }
   ],
   "source": [
    "# Perform retrieval-based question answering task\n",
    "query = example\n",
    "docs_rel = retriever.get_relevant_documents(query)\n",
    "\n",
    "# Generate response to a given query using augmented knowledge base\n",
    "model = HuggingFaceHub(\n",
    "    repo_id=\"HuggingFaceH4/zephyr-7b-alpha\",\n",
    "    model_kwargs={\"temperature\": 0.7, \"max_new_tokens\": 1024, \"max_length\": 512},\n",
    "    huggingfacehub_api_token=access_key,\n",
    ")\n",
    "qa = RetrievalQA.from_chain_type(llm=model, retriever=retriever)\n",
    "\n",
    "\n",
    "prompt = f\"\"\"\n",
    "You are an AI Assistant that follows instructions extremely well.\n",
    "Please be truthful and give direct answers\n",
    "</s>\n",
    "\n",
    "{query}\n",
    "</s>\n",
    "\"\"\"\n",
    "\n",
    "\n",
    "# Extract context from the provided information\n",
    "context = str(results)\n",
    "response = qa(context + \"\\n\" + prompt)\n",
    "print(response[\"result\"])\n"
   ]
  },
  {
   "cell_type": "code",
   "execution_count": null,
   "metadata": {},
   "outputs": [],
   "source": [
    "query = example\n",
    "\n",
    "# Generate response to a given query using the provided context\n",
    "model_ = HuggingFaceHub(\n",
    "    repo_id=\"HuggingFaceH4/zephyr-7b-alpha\",\n",
    "    model_kwargs={\"temperature\": 0.1, \"max_new_tokens\": 1024, \"max_length\": 512},\n",
    "    huggingfacehub_api_token=access_key,\n",
    ")\n",
    "\n",
    "# Perform question answering directly without the retriever\n",
    "response = model_(context, query)\n",
    "print(response[\"result\"])\n"
   ]
  },
  {
   "cell_type": "code",
   "execution_count": null,
   "metadata": {},
   "outputs": [],
   "source": []
  }
 ],
 "metadata": {
  "kernelspec": {
   "display_name": "Python 3 (ipykernel)",
   "language": "python",
   "name": "python3"
  },
  "language_info": {
   "codemirror_mode": {
    "name": "ipython",
    "version": 3
   },
   "file_extension": ".py",
   "mimetype": "text/x-python",
   "name": "python",
   "nbconvert_exporter": "python",
   "pygments_lexer": "ipython3",
   "version": "3.8.18"
  }
 },
 "nbformat": 4,
 "nbformat_minor": 2
}
